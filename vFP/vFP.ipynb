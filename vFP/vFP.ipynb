{
 "cells": [
  {
   "cell_type": "code",
   "execution_count": 24,
   "metadata": {},
   "outputs": [
    {
     "name": "stdout",
     "output_type": "stream",
     "text": [
      "The autoreload extension is already loaded. To reload it, use:\n",
      "  %reload_ext autoreload\n"
     ]
    }
   ],
   "source": [
    "import os\n",
    "os.environ[\"CUDA_DEVICE_ORDER\"]=\"PCI_BUS_ID\"\n",
    "os.environ[\"CUDA_VISIBLE_DEVICES\"]=\"3\"\n",
    "os.environ[\"CUDA_VISIBLE_DEVICES\"]=\"2\"\n",
    "\n",
    "import chromatix.functional as cx\n",
    "import jax.numpy as jnp\n",
    "from jax import random\n",
    "from chromatix.elements import VectorPlaneWave\n",
    "import jax\n",
    "import matplotlib.pyplot as plt\n",
    "from skimage import io\n",
    "from einops import rearrange\n",
    "%load_ext autoreload\n",
    "%autoreload 2"
   ]
  },
  {
   "attachments": {},
   "cell_type": "markdown",
   "metadata": {},
   "source": [
    "# Vector case"
   ]
  },
  {
   "attachments": {},
   "cell_type": "markdown",
   "metadata": {},
   "source": [
    "## Build empty plane wave field"
   ]
  },
  {
   "cell_type": "code",
   "execution_count": 25,
   "metadata": {},
   "outputs": [
    {
     "name": "stdout",
     "output_type": "stream",
     "text": [
      "field shape (1, 3, 512, 512, 1)\n",
      "(1, 3, 512, 512, 1)\n"
     ]
    }
   ],
   "source": [
    "spectrum = jnp.array(0.532)\n",
    "spectral_density = 1\n",
    "n = 1\n",
    "\n",
    "field = cx.empty_field(\n",
    "    shape=(512, 512), dx=1.0, spectrum=spectrum, spectral_density=spectral_density, polarized=True\n",
    ")\n",
    "\n",
    "print(\"field shape\", field.shape)\n",
    "\n",
    "#Add the input phase for polarization light\n",
    "phi = 0 # angle between z axis and xy plane\n",
    "theta = 0 # angle between x and y\n",
    "k = n * 2 * jnp.pi / spectrum * jnp.array([jnp.sin(phi)* jnp.sin(theta), jnp.sin(phi) * jnp.cos(theta)]) # y and x \n",
    "Ep = jnp.array((0,0,1))  #z,y,x\n",
    "\n",
    "source = VectorPlaneWave(shape=(512, 512), dx = 0.0001, n = 1, spectrum=spectrum, spectral_density=1.0, k = k, Ep = Ep)\n",
    "\n",
    "params = source.init(random.PRNGKey(42))\n",
    "field = source.apply(params)\n",
    "# field = cx.vector_plane_wave(field, k, E0)\n",
    "print(field.shape)"
   ]
  },
  {
   "attachments": {},
   "cell_type": "markdown",
   "metadata": {},
   "source": [
    "## Propagate the field using Frenel transfer function"
   ]
  },
  {
   "cell_type": "code",
   "execution_count": 23,
   "metadata": {},
   "outputs": [
    {
     "name": "stdout",
     "output_type": "stream",
     "text": [
      "fx shape is: (1, 1, 512, 1, 1)\n",
      "(1, 3, 512, 512, 1)\n",
      "(3, 512, 512)\n"
     ]
    }
   ],
   "source": [
    "field = cx.transfer_propagate(field, z = 7, n = 1, N_pad = 0 )\n",
    "I = jnp.sum(jnp.abs(field.u)**2, axis = -1)\n",
    "print(field.shape)\n",
    "print(I.squeeze().shape)"
   ]
  },
  {
   "attachments": {},
   "cell_type": "markdown",
   "metadata": {},
   "source": [
    "## Light transfer through a linear polarizer"
   ]
  },
  {
   "cell_type": "code",
   "execution_count": 5,
   "metadata": {},
   "outputs": [],
   "source": [
    "field = cx.linear_polarizer(field, jnp.pi/2)\n",
    "I = jnp.sum(jnp.abs(field.u)**2, axis = -1)\n",
    "# field = cx.linear_polarizer(field, jnp.pi)"
   ]
  },
  {
   "cell_type": "code",
   "execution_count": 26,
   "metadata": {},
   "outputs": [
    {
     "name": "stdout",
     "output_type": "stream",
     "text": [
      "(1, 2, 512, 512, 1)\n"
     ]
    }
   ],
   "source": [
    "u = jnp.array((3,3,512,512,4,3))\n",
    "field.replace(u = u)\n",
    "print(field.u[:,1:3,:,:,:].shape)"
   ]
  },
  {
   "cell_type": "code",
   "execution_count": 27,
   "metadata": {},
   "outputs": [
    {
     "name": "stdout",
     "output_type": "stream",
     "text": [
      "(3, 512, 512)\n",
      "[[0. 0. 0. ... 0. 0. 0.]\n",
      " [0. 0. 0. ... 0. 0. 0.]\n",
      " [0. 0. 0. ... 0. 0. 0.]\n",
      " ...\n",
      " [0. 0. 0. ... 0. 0. 0.]\n",
      " [0. 0. 0. ... 0. 0. 0.]\n",
      " [0. 0. 0. ... 0. 0. 0.]]\n"
     ]
    }
   ],
   "source": [
    "print(I.squeeze().shape)\n",
    "I3d = I.squeeze()\n",
    "print(I3d[0,:,:])"
   ]
  },
  {
   "attachments": {},
   "cell_type": "markdown",
   "metadata": {},
   "source": [
    "## Make thin samples using Jones Matrix"
   ]
  },
  {
   "cell_type": "code",
   "execution_count": 31,
   "metadata": {},
   "outputs": [
    {
     "name": "stdout",
     "output_type": "stream",
     "text": [
      "(512, 512)\n"
     ]
    }
   ],
   "source": [
    "sample_delay = io.imread(\"Map_512.tiff\")\n",
    "print(sample_delay.shape)\n",
    "absorption = jnp.ones((1,2,2,512,512,1))   #[1 2 2 H W 1]\n",
    "phase = jnp.einsum(\"ijmn, mn -> ijmn\", jnp.ones((2,2,512,512)), sample_delay/jnp.max(jnp.max(sample_delay)))   #[1 2 2 H W 1]\n",
    "phase = rearrange(phase, \"i j m n -> 1 i j m n 1\")\n",
    "\n",
    "Jsampe = cx.jones_sample(field, absorption, phase)"
   ]
  },
  {
   "cell_type": "code",
   "execution_count": 32,
   "metadata": {},
   "outputs": [
    {
     "name": "stdout",
     "output_type": "stream",
     "text": [
      "[[[[[1.e-04]]]]]\n",
      "[[1. 1. 1. ... 1. 1. 1.]\n",
      " [1. 1. 1. ... 1. 1. 1.]\n",
      " [1. 1. 1. ... 1. 1. 1.]\n",
      " ...\n",
      " [1. 1. 1. ... 1. 1. 1.]\n",
      " [1. 1. 1. ... 1. 1. 1.]\n",
      " [1. 1. 1. ... 1. 1. 1.]]\n"
     ]
    },
    {
     "data": {
      "image/png": "[encoded data removed]",
      "text/plain": [
       "<Figure size 640x480 with 2 Axes>"
      ]
     },
     "metadata": {},
     "output_type": "display_data"
    }
   ],
   "source": [
    "print(field.dx)\n",
    "print(field.intensity.squeeze())\n",
    "# plt.imshow(I.squeeze()[0,:,:])\n",
    "plt.imshow(field.intensity.squeeze())\n",
    "plt.title(\"field of polarization\")\n",
    "plt.colorbar()\n",
    "plt.show()"
   ]
  },
  {
   "cell_type": "code",
   "execution_count": null,
   "metadata": {},
   "outputs": [],
   "source": []
  },
  {
   "attachments": {},
   "cell_type": "markdown",
   "metadata": {},
   "source": [
    "# Scaler case"
   ]
  },
  {
   "cell_type": "code",
   "execution_count": 1,
   "metadata": {},
   "outputs": [
    {
     "ename": "NameError",
     "evalue": "name 'jnp' is not defined",
     "output_type": "error",
     "traceback": [
      "\u001b[0;31m---------------------------------------------------------------------------\u001b[0m",
      "\u001b[0;31mNameError\u001b[0m                                 Traceback (most recent call last)",
      "Cell \u001b[0;32mIn[1], line 3\u001b[0m\n\u001b[1;32m      1\u001b[0m \u001b[39m# We first create an empty field. \u001b[39;00m\n\u001b[1;32m      2\u001b[0m N \u001b[39m=\u001b[39m \u001b[39m512\u001b[39m\n\u001b[0;32m----> 3\u001b[0m spectrum \u001b[39m=\u001b[39m jnp\u001b[39m.\u001b[39marray((\u001b[39m0.2\u001b[39m,\u001b[39m0.532\u001b[39m))\n\u001b[1;32m      4\u001b[0m spectral_density \u001b[39m=\u001b[39m jnp\u001b[39m.\u001b[39marray((\u001b[39m0.5\u001b[39m,\u001b[39m0.5\u001b[39m))\n\u001b[1;32m      6\u001b[0m field \u001b[39m=\u001b[39m cx\u001b[39m.\u001b[39mempty_field(shape\u001b[39m=\u001b[39m(N, N), dx\u001b[39m=\u001b[39m\u001b[39m0.2\u001b[39m, spectrum\u001b[39m=\u001b[39mspectrum, spectral_density\u001b[39m=\u001b[39mspectral_density)\n",
      "\u001b[0;31mNameError\u001b[0m: name 'jnp' is not defined"
     ]
    }
   ],
   "source": [
    "# We first create an empty field. \n",
    "N = 512\n",
    "spectrum = jnp.array((0.2,0.532))\n",
    "spectral_density = jnp.array((0.5,0.5))\n",
    "\n",
    "field = cx.empty_field(shape=(N, N), dx=0.2, spectrum=spectrum, spectral_density=spectral_density)\n",
    "\n",
    "# And then turn it into the field generated by the point source afterb the lens.\n",
    "# field = cx.plane_wave(field, z=0.0, f=10.0, n=1.0, NA=0.8)\n",
    "# print(\"field shape\", field.shape)\n",
    "\n",
    "#Add the input phase for polarization light\n",
    "phi = 0.1 # angle between z axis and xy plane\n",
    "theta = 1 # angle between x and y\n",
    "n = 1\n",
    "kykx = n * 2 * jnp.pi / spectrum * jnp.array([jnp.sin(phi)* jnp.sin(theta), jnp.sin(phi) * jnp.cos(theta)]) # y and x \n",
    "\n",
    "# source = PlaneWave(shape=(N, N), dx = 0.0001, spectrum=spectrum, spectral_density=1.0, power = 1, pupil = None, phase = jnp.ones([1,N,N,1]), k = k)\n",
    "\n",
    "# params = source.init(random.PRNGKey(42))\n",
    "# field = source.apply(params)\n",
    "# # # field = cx.vector_plane_wave(field, k, E0)\n",
    "# print(field.shape)\n",
    "print(kykx)\n",
    "field = cx.plane_wave(field, kykx = kykx)"
   ]
  },
  {
   "cell_type": "code",
   "execution_count": 40,
   "metadata": {},
   "outputs": [
    {
     "ename": "AttributeError",
     "evalue": "'Array' object has no attribute 'spectrum'",
     "output_type": "error",
     "traceback": [
      "\u001b[0;31m---------------------------------------------------------------------------\u001b[0m",
      "\u001b[0;31mAttributeError\u001b[0m                            Traceback (most recent call last)",
      "Cell \u001b[0;32mIn[40], line 1\u001b[0m\n\u001b[0;32m----> 1\u001b[0m field \u001b[39m=\u001b[39m cx\u001b[39m.\u001b[39;49mtransfer_propagate(field, z \u001b[39m=\u001b[39;49m \u001b[39m7\u001b[39;49m, n \u001b[39m=\u001b[39;49m \u001b[39m1\u001b[39;49m, N_pad \u001b[39m=\u001b[39;49m \u001b[39m10\u001b[39;49m )\n",
      "File \u001b[0;32m~/jane/chromatix/src/chromatix/functional/propagation.py:76\u001b[0m, in \u001b[0;36mtransfer_propagate\u001b[0;34m(field, z, n, N_pad, loop_axis, mode)\u001b[0m\n\u001b[1;32m     62\u001b[0m \u001b[39m\u001b[39m\u001b[39m\"\"\"\u001b[39;00m\n\u001b[1;32m     63\u001b[0m \u001b[39mFresnel propagate ``field`` for a distance ``z`` using transfer method.\u001b[39;00m\n\u001b[1;32m     64\u001b[0m \n\u001b[0;32m   (...)\u001b[0m\n\u001b[1;32m     71\u001b[0m \u001b[39m    ConcretizationError will arise when traced!).\u001b[39;00m\n\u001b[1;32m     72\u001b[0m \u001b[39m\"\"\"\u001b[39;00m\n\u001b[1;32m     74\u001b[0m \u001b[39m# assert N_pad % 2 == 0, \"Padding should be even.\"\u001b[39;00m\n\u001b[1;32m     75\u001b[0m \u001b[39m# Calculating propagator\u001b[39;00m\n\u001b[0;32m---> 76\u001b[0m L \u001b[39m=\u001b[39m jnp\u001b[39m.\u001b[39msqrt(jnp\u001b[39m.\u001b[39mcomplex64(field\u001b[39m.\u001b[39;49mspectrum \u001b[39m*\u001b[39m z \u001b[39m/\u001b[39m n))  \u001b[39m# lengthscale L\u001b[39;00m\n\u001b[1;32m     77\u001b[0m \u001b[39m# TODO(dd): This calculation could probably go into Field\u001b[39;00m\n\u001b[1;32m     78\u001b[0m \u001b[39m# Create frequency grid\u001b[39;00m\n\u001b[1;32m     79\u001b[0m f \u001b[39m=\u001b[39m []\n",
      "\u001b[0;31mAttributeError\u001b[0m: 'Array' object has no attribute 'spectrum'"
     ]
    }
   ],
   "source": [
    "field = cx.transfer_propagate(field, z = 7, n = 1, N_pad = 10 )"
   ]
  },
  {
   "attachments": {},
   "cell_type": "markdown",
   "metadata": {},
   "source": [
    "? why padding different, simulated field is different\n",
    "The padding means the propagation involves"
   ]
  },
  {
   "cell_type": "code",
   "execution_count": 31,
   "metadata": {},
   "outputs": [
    {
     "name": "stdout",
     "output_type": "stream",
     "text": [
      "[[[[[1.e-04]]]]]\n"
     ]
    },
    {
     "data": {
      "image/png": "[encoded data removed]",
      "text/plain": [
       "<Figure size 640x480 with 2 Axes>"
      ]
     },
     "metadata": {},
     "output_type": "display_data"
    }
   ],
   "source": [
    "print(field.dx)\n",
    "fig,ax = plt.subplots()\n",
    "im = ax.imshow(field.intensity.squeeze())\n",
    "ax.set_title((\"field with incident angle phi \"+ str(phi) + \" and theta \"  + str(theta)))\n",
    "# xaxis = jnp.arange(-field.dx*N/2,field.dx*N/2,N)\n",
    "# ax.set_xticks([-field.dx*N/2,0,field.dx*N/2])\n",
    "# # ax.set_xlim([-N*field.dx,N*field.dx])\n",
    "fig.colorbar(im, orientation='vertical')\n",
    "plt.show()"
   ]
  }
 ],
 "metadata": {
  "kernelspec": {
   "display_name": "jane",
   "language": "python",
   "name": "python3"
  },
  "language_info": {
   "codemirror_mode": {
    "name": "ipython",
    "version": 3
   },
   "file_extension": ".py",
   "mimetype": "text/x-python",
   "name": "python",
   "nbconvert_exporter": "python",
   "pygments_lexer": "ipython3",
   "version": "3.10.9"
  },
  "orig_nbformat": 4,
  "vscode": {
   "interpreter": {
    "hash": "731038c04441e8723b2ed084f266aa8861b0dcffc49ee61ed22b366ee0ca4e94"
   }
  }
 },
 "nbformat": 4,
 "nbformat_minor": 2
}
